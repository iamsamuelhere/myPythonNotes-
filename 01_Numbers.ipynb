{
  "nbformat": 4,
  "nbformat_minor": 0,
  "metadata": {
    "anaconda-cloud": {},
    "kernelspec": {
      "display_name": "Python 3",
      "language": "python",
      "name": "python3"
    },
    "language_info": {
      "codemirror_mode": {
        "name": "ipython",
        "version": 3
      },
      "file_extension": ".py",
      "mimetype": "text/x-python",
      "name": "python",
      "nbconvert_exporter": "python",
      "pygments_lexer": "ipython3",
      "version": "3.6.2"
    },
    "colab": {
      "name": "01-Numbers.ipynb",
      "provenance": [],
      "collapsed_sections": []
    }
  },
  "cells": [
    {
      "cell_type": "markdown",
      "metadata": {
        "id": "PXCuOZRWEJ2x",
        "colab_type": "text"
      },
      "source": [
        "# Numbers\n",
        "\n",
        "\n",
        "\n",
        "    1.) Types of Numbers in Python\n",
        "    2.) Basic Arithmetic\n",
        "    3.) Differences between classic division and floor division\n",
        "    4.) Object Assignment in Python"
      ]
    },
    {
      "cell_type": "markdown",
      "metadata": {
        "id": "90tvnwFtEJ25",
        "colab_type": "text"
      },
      "source": [
        "## Types of numbers\n",
        "\n",
        "Python has various \"types\" of numbers (numeric literals). We'll mainly focus on integers and floating point numbers.\n",
        "\n",
        "Integers are just whole numbers, positive or negative. For example: 2 and -2 are examples of integers.\n",
        "\n",
        "Floating point numbers in Python are notable because they have a decimal point in them, or use an exponential (e) to define the number. For example 2.0 and -2.1 are examples of floating point numbers. 4E2 (4 times 10 to the power of 2) is also an example of a floating point number in Python.\n",
        "\n",
        "Throughout this course we will be mainly working with integers or simple float number types.\n",
        "\n",
        "Here is a table of the two main types we will spend most of our time working with some examples:"
      ]
    },
    {
      "cell_type": "markdown",
      "metadata": {
        "id": "manp8ILKEJ3A",
        "colab_type": "text"
      },
      "source": [
        "<table>\n",
        "<tr>\n",
        "    <th>Examples</th> \n",
        "    <th>Number \"Type\"</th>\n",
        "</tr>\n",
        "\n",
        "<tr>\n",
        "    <td>1,2,-5,1000</td>\n",
        "    <td>Integers</td> \n",
        "</tr>\n",
        "\n",
        "<tr>\n",
        "    <td>1.2,-0.5,2e2,3E2</td> \n",
        "    <td>Floating-point numbers</td> \n",
        "</tr>\n",
        " </table>"
      ]
    },
    {
      "cell_type": "markdown",
      "metadata": {
        "id": "ReCgJtO2EJ3F",
        "colab_type": "text"
      },
      "source": [
        " \n",
        " \n",
        "Now let's start with some basic arithmetic."
      ]
    },
    {
      "cell_type": "markdown",
      "metadata": {
        "id": "ayxg4dbuEJ3K",
        "colab_type": "text"
      },
      "source": [
        "### Basic Arithmetic"
      ]
    },
    {
      "cell_type": "code",
      "metadata": {
        "id": "U-inC1d1EJ3R",
        "colab_type": "code",
        "colab": {
          "base_uri": "https://localhost:8080/",
          "height": 35
        },
        "outputId": "a30daebe-fd03-4de4-d7f5-c5c27bc79fcc"
      },
      "source": [
        "# Addition\n",
        "2+1"
      ],
      "execution_count": 1,
      "outputs": [
        {
          "output_type": "execute_result",
          "data": {
            "text/plain": [
              "3"
            ]
          },
          "metadata": {
            "tags": []
          },
          "execution_count": 1
        }
      ]
    },
    {
      "cell_type": "code",
      "metadata": {
        "id": "Lmb72b2JEJ3i",
        "colab_type": "code",
        "colab": {
          "base_uri": "https://localhost:8080/",
          "height": 35
        },
        "outputId": "9109528f-f328-43d2-af3d-bf2400c1b9b9"
      },
      "source": [
        "# Subtraction\n",
        "2-1"
      ],
      "execution_count": 2,
      "outputs": [
        {
          "output_type": "execute_result",
          "data": {
            "text/plain": [
              "1"
            ]
          },
          "metadata": {
            "tags": []
          },
          "execution_count": 2
        }
      ]
    },
    {
      "cell_type": "code",
      "metadata": {
        "id": "av6xcWuTEJ3u",
        "colab_type": "code",
        "colab": {
          "base_uri": "https://localhost:8080/",
          "height": 35
        },
        "outputId": "19c1761a-7443-4862-bfd1-962ca7ec4383"
      },
      "source": [
        "# Multiplication\n",
        "2*2"
      ],
      "execution_count": 3,
      "outputs": [
        {
          "output_type": "execute_result",
          "data": {
            "text/plain": [
              "4"
            ]
          },
          "metadata": {
            "tags": []
          },
          "execution_count": 3
        }
      ]
    },
    {
      "cell_type": "code",
      "metadata": {
        "id": "-npbevwUEJ36",
        "colab_type": "code",
        "colab": {
          "base_uri": "https://localhost:8080/",
          "height": 35
        },
        "outputId": "cc298445-d36c-450d-8089-47041ec6ab58"
      },
      "source": [
        "# Division\n",
        "3/2"
      ],
      "execution_count": 4,
      "outputs": [
        {
          "output_type": "execute_result",
          "data": {
            "text/plain": [
              "1.5"
            ]
          },
          "metadata": {
            "tags": []
          },
          "execution_count": 4
        }
      ]
    },
    {
      "cell_type": "code",
      "metadata": {
        "id": "17obH22XEJ4G",
        "colab_type": "code",
        "colab": {
          "base_uri": "https://localhost:8080/",
          "height": 35
        },
        "outputId": "eb6ff763-d140-4c1d-f8c8-05e1197d5c6e"
      },
      "source": [
        "# Floor Division\n",
        "7//4"
      ],
      "execution_count": 5,
      "outputs": [
        {
          "output_type": "execute_result",
          "data": {
            "text/plain": [
              "1"
            ]
          },
          "metadata": {
            "tags": []
          },
          "execution_count": 5
        }
      ]
    },
    {
      "cell_type": "markdown",
      "metadata": {
        "id": "EiCxqY-iEJ4Q",
        "colab_type": "text"
      },
      "source": [
        "**Whoa! What just happened? Last time I checked, 7 divided by 4 equals 1.75 not 1!**\n",
        "\n",
        "The reason we get this result is because we are using \"*floor*\" division. The // operator (two forward slashes) truncates the decimal without rounding, and returns an integer result."
      ]
    },
    {
      "cell_type": "markdown",
      "metadata": {
        "id": "2jcs5O_3EJ4V",
        "colab_type": "text"
      },
      "source": [
        "**So what if we just want the remainder after division?**"
      ]
    },
    {
      "cell_type": "code",
      "metadata": {
        "id": "leB4GVF1EJ4Z",
        "colab_type": "code",
        "colab": {
          "base_uri": "https://localhost:8080/",
          "height": 35
        },
        "outputId": "57675341-bc28-4a66-94bc-fbc3ac75e715"
      },
      "source": [
        "# Modulo\n",
        "7%4"
      ],
      "execution_count": 6,
      "outputs": [
        {
          "output_type": "execute_result",
          "data": {
            "text/plain": [
              "3"
            ]
          },
          "metadata": {
            "tags": []
          },
          "execution_count": 6
        }
      ]
    },
    {
      "cell_type": "markdown",
      "metadata": {
        "id": "MIk92ikYEJ4q",
        "colab_type": "text"
      },
      "source": [
        "4 goes into 7 once, with a remainder of 3. The % operator returns the remainder after division."
      ]
    },
    {
      "cell_type": "markdown",
      "metadata": {
        "id": "0V4VBxeYEJ4s",
        "colab_type": "text"
      },
      "source": [
        "### Arithmetic continued"
      ]
    },
    {
      "cell_type": "code",
      "metadata": {
        "id": "oZh1R3AnEJ4v",
        "colab_type": "code",
        "colab": {
          "base_uri": "https://localhost:8080/",
          "height": 35
        },
        "outputId": "1bddee63-9c42-403e-fe9c-0ff9bd6e2d1d"
      },
      "source": [
        "# Powers\n",
        "2**3"
      ],
      "execution_count": 7,
      "outputs": [
        {
          "output_type": "execute_result",
          "data": {
            "text/plain": [
              "8"
            ]
          },
          "metadata": {
            "tags": []
          },
          "execution_count": 7
        }
      ]
    },
    {
      "cell_type": "code",
      "metadata": {
        "id": "-qis1cmsEJ45",
        "colab_type": "code",
        "colab": {
          "base_uri": "https://localhost:8080/",
          "height": 35
        },
        "outputId": "385162eb-00d0-40c0-b497-4f464ee0f809"
      },
      "source": [
        "# Can also do roots this way\n",
        "4**0.5"
      ],
      "execution_count": 8,
      "outputs": [
        {
          "output_type": "execute_result",
          "data": {
            "text/plain": [
              "2.0"
            ]
          },
          "metadata": {
            "tags": []
          },
          "execution_count": 8
        }
      ]
    },
    {
      "cell_type": "code",
      "metadata": {
        "id": "VBWWG3A5EJ5G",
        "colab_type": "code",
        "colab": {
          "base_uri": "https://localhost:8080/",
          "height": 35
        },
        "outputId": "1fe64fa5-a17e-4bde-89ea-51bd4df64a34"
      },
      "source": [
        "# Order of Operations followed in Python\n",
        "2 + 10 * 10 + 3"
      ],
      "execution_count": 9,
      "outputs": [
        {
          "output_type": "execute_result",
          "data": {
            "text/plain": [
              "105"
            ]
          },
          "metadata": {
            "tags": []
          },
          "execution_count": 9
        }
      ]
    },
    {
      "cell_type": "code",
      "metadata": {
        "id": "HeHrzJMFEJ5P",
        "colab_type": "code",
        "colab": {
          "base_uri": "https://localhost:8080/",
          "height": 35
        },
        "outputId": "063a8570-df6d-42fc-90a8-d521c3ebc8d4"
      },
      "source": [
        "# Can use parentheses to specify orders\n",
        "(2+10) * (10+3)"
      ],
      "execution_count": 10,
      "outputs": [
        {
          "output_type": "execute_result",
          "data": {
            "text/plain": [
              "156"
            ]
          },
          "metadata": {
            "tags": []
          },
          "execution_count": 10
        }
      ]
    },
    {
      "cell_type": "markdown",
      "metadata": {
        "id": "PHzdX3IcEJ5a",
        "colab_type": "text"
      },
      "source": [
        "## Variable Assignments\n",
        "\n",
        "Now that we've seen how to use numbers in Python as a calculator let's see how we can assign names and create variables.\n",
        "\n",
        "We use a single equals sign to assign labels to variables. Let's see a few examples of how we can do this."
      ]
    },
    {
      "cell_type": "code",
      "metadata": {
        "id": "uA_vbnIWEJ5c",
        "colab_type": "code",
        "colab": {
          "base_uri": "https://localhost:8080/",
          "height": 35
        },
        "outputId": "bf43515a-345b-400e-d238-72c1b8187b1e"
      },
      "source": [
        "# Let's create an object called \"a\" and assign it the number 5\n",
        "a = 5\n",
        "print(type(a))"
      ],
      "execution_count": 20,
      "outputs": [
        {
          "output_type": "stream",
          "text": [
            "<class 'int'>\n"
          ],
          "name": "stdout"
        }
      ]
    },
    {
      "cell_type": "markdown",
      "metadata": {
        "id": "mju47zBCEJ5l",
        "colab_type": "text"
      },
      "source": [
        "Now if I call *a* in my Python script, Python will treat it as the number 5."
      ]
    },
    {
      "cell_type": "code",
      "metadata": {
        "id": "jKx6afFQEJ5p",
        "colab_type": "code",
        "colab": {
          "base_uri": "https://localhost:8080/",
          "height": 35
        },
        "outputId": "9ba6ca59-933e-40d6-bffd-9ce02f66306f"
      },
      "source": [
        "# Adding the objects\n",
        "a+a"
      ],
      "execution_count": 12,
      "outputs": [
        {
          "output_type": "execute_result",
          "data": {
            "text/plain": [
              "10"
            ]
          },
          "metadata": {
            "tags": []
          },
          "execution_count": 12
        }
      ]
    },
    {
      "cell_type": "markdown",
      "metadata": {
        "id": "2VnStEZ8EJ5y",
        "colab_type": "text"
      },
      "source": [
        "What happens on reassignment? Will Python let us write it over?"
      ]
    },
    {
      "cell_type": "code",
      "metadata": {
        "id": "4jcLN_VtEJ52",
        "colab_type": "code",
        "colab": {}
      },
      "source": [
        "# Reassignment\n",
        "a = 10"
      ],
      "execution_count": 0,
      "outputs": []
    },
    {
      "cell_type": "code",
      "metadata": {
        "id": "BowVNUnYEJ6C",
        "colab_type": "code",
        "colab": {
          "base_uri": "https://localhost:8080/",
          "height": 35
        },
        "outputId": "4474973e-07d4-4d47-aafa-ca58fd30f713"
      },
      "source": [
        "# Check\n",
        "a"
      ],
      "execution_count": 14,
      "outputs": [
        {
          "output_type": "execute_result",
          "data": {
            "text/plain": [
              "10"
            ]
          },
          "metadata": {
            "tags": []
          },
          "execution_count": 14
        }
      ]
    },
    {
      "cell_type": "markdown",
      "metadata": {
        "id": "IvK4rb2JEJ6O",
        "colab_type": "text"
      },
      "source": [
        "Yes! Python allows you to write over assigned variable names. We can also use the variables themselves when doing the reassignment. Here is an example of what I mean:"
      ]
    },
    {
      "cell_type": "code",
      "metadata": {
        "id": "sj6a5ijmEJ6Q",
        "colab_type": "code",
        "colab": {
          "base_uri": "https://localhost:8080/",
          "height": 35
        },
        "outputId": "0428e080-94ac-43d0-a8a1-1ffa4158242e"
      },
      "source": [
        "# Check\n",
        "a"
      ],
      "execution_count": 15,
      "outputs": [
        {
          "output_type": "execute_result",
          "data": {
            "text/plain": [
              "10"
            ]
          },
          "metadata": {
            "tags": []
          },
          "execution_count": 15
        }
      ]
    },
    {
      "cell_type": "code",
      "metadata": {
        "id": "VJILde3mEJ6X",
        "colab_type": "code",
        "colab": {}
      },
      "source": [
        "# Use A to redefine A\n",
        "a = a + a"
      ],
      "execution_count": 0,
      "outputs": []
    },
    {
      "cell_type": "code",
      "metadata": {
        "id": "fj7aA7x_EJ6e",
        "colab_type": "code",
        "colab": {
          "base_uri": "https://localhost:8080/",
          "height": 35
        },
        "outputId": "0ed5b50e-f380-4beb-b159-4e55fb6ca05b"
      },
      "source": [
        "# Check \n",
        "a"
      ],
      "execution_count": 17,
      "outputs": [
        {
          "output_type": "execute_result",
          "data": {
            "text/plain": [
              "20"
            ]
          },
          "metadata": {
            "tags": []
          },
          "execution_count": 17
        }
      ]
    },
    {
      "cell_type": "markdown",
      "metadata": {
        "id": "RyV5EHzhEJ6n",
        "colab_type": "text"
      },
      "source": [
        "The names you use when creating these labels need to follow a few rules:\n",
        "\n",
        "    1. Names can not start with a number.\n",
        "    2. There can be no spaces in the name, use _ instead.\n",
        "    3. Can't use any of these symbols :'\",<>/?|\\()!@#$%^&*~-+\n",
        "    4. It's considered best practice (PEP8) that names are lowercase.\n",
        "    5. Avoid using the characters 'l' (lowercase letter el), 'O' (uppercase letter oh), \n",
        "       or 'I' (uppercase letter eye) as single character variable names.\n",
        "    6. Avoid using words that have special meaning in Python like \"list\" and \"str\"\n",
        "\n",
        "\n",
        "Using variable names can be a very useful way to keep track of different variables in Python. For example:"
      ]
    },
    {
      "cell_type": "code",
      "metadata": {
        "id": "SCMQEBsGEJ6r",
        "colab_type": "code",
        "colab": {}
      },
      "source": [
        "# Use object names to keep better track of what's going on in your code!\n",
        "my_income = 100\n",
        "\n",
        "tax_rate = 0.1\n",
        "\n",
        "my_taxes = my_income*tax_rate"
      ],
      "execution_count": 0,
      "outputs": []
    },
    {
      "cell_type": "code",
      "metadata": {
        "id": "iINmUid6EJ6w",
        "colab_type": "code",
        "colab": {
          "base_uri": "https://localhost:8080/",
          "height": 54
        },
        "outputId": "57b67350-5917-4f40-d66f-cb9cdc575941"
      },
      "source": [
        "# Show my taxes!\n",
        "print(my_taxes)\n",
        "print(type(my_taxes))"
      ],
      "execution_count": 22,
      "outputs": [
        {
          "output_type": "stream",
          "text": [
            "10.0\n",
            "<class 'float'>\n"
          ],
          "name": "stdout"
        }
      ]
    },
    {
      "cell_type": "markdown",
      "metadata": {
        "id": "MXxtSWLPEJ63",
        "colab_type": "text"
      },
      "source": [
        "So what have we learned? We learned some of the basics of numbers in Python. We also learned how to do arithmetic and use Python as a basic calculator. We then wrapped it up with learning about Variable Assignment in Python.\n",
        "\n",
        "Up next we'll learn about Strings!"
      ]
    }
  ]
}