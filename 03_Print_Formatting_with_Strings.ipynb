{
  "nbformat": 4,
  "nbformat_minor": 0,
  "metadata": {
    "kernelspec": {
      "display_name": "Python 3",
      "language": "python",
      "name": "python3"
    },
    "language_info": {
      "codemirror_mode": {
        "name": "ipython",
        "version": 3
      },
      "file_extension": ".py",
      "mimetype": "text/x-python",
      "name": "python",
      "nbconvert_exporter": "python",
      "pygments_lexer": "ipython3",
      "version": "3.6.2"
    },
    "colab": {
      "name": "03-Print Formatting with Strings.ipynb",
      "provenance": []
    }
  },
  "cells": [
    {
      "cell_type": "markdown",
      "metadata": {
        "id": "8xf5hRvoHHMj",
        "colab_type": "text"
      },
      "source": [
        "# String Formatting\n",
        "\n",
        "String formatting lets you inject items into a string rather than trying to chain items together using commas or string concatenation. As a quick comparison, consider:\n",
        "\n",
        "    player = 'Thomas'\n",
        "    points = 33\n",
        "    \n",
        "    'Last night, '+player+' scored '+str(points)+' points.'  # concatenation\n",
        "    \n",
        "    f'Last night, {player} scored {points} points.'          # string formatting\n",
        "\n",
        "\n",
        "There are three ways to perform string formatting.\n",
        "* The oldest method involves placeholders using the modulo `%` character.\n",
        "* An improved technique uses the `.format()` string method.\n",
        "* The newest method, introduced with Python 3.6, uses formatted string literals, called *f-strings*.\n",
        "\n",
        "Since you will likely encounter all three versions in someone else's code, we describe each of them here."
      ]
    },
    {
      "cell_type": "markdown",
      "metadata": {
        "id": "P30_P2ZZHHMs",
        "colab_type": "text"
      },
      "source": [
        "## Formatting with placeholders\n",
        "You can use <code>%s</code> to inject strings into your print statements. The modulo `%` is referred to as a \"string formatting operator\"."
      ]
    },
    {
      "cell_type": "code",
      "metadata": {
        "id": "te4rR4fjHHM1",
        "colab_type": "code",
        "colab": {},
        "outputId": "f23bc31e-2c10-41ca-9703-36d38a92b061"
      },
      "source": [
        "print(\"I'm going to inject %s here.\" %'something')"
      ],
      "execution_count": 0,
      "outputs": [
        {
          "output_type": "stream",
          "text": [
            "I'm going to inject something here.\n"
          ],
          "name": "stdout"
        }
      ]
    },
    {
      "cell_type": "markdown",
      "metadata": {
        "id": "6uyUVon-HHNR",
        "colab_type": "text"
      },
      "source": [
        "You can pass multiple items by placing them inside a tuple after the `%` operator."
      ]
    },
    {
      "cell_type": "code",
      "metadata": {
        "id": "h4QIeS_gHHNU",
        "colab_type": "code",
        "colab": {},
        "outputId": "3b270b3a-82c7-480e-ee11-3803c6226934"
      },
      "source": [
        "print(\"I'm going to inject %s text here, and %s text here.\" %('some','more'))"
      ],
      "execution_count": 0,
      "outputs": [
        {
          "output_type": "stream",
          "text": [
            "I'm going to inject some text here, and more text here.\n"
          ],
          "name": "stdout"
        }
      ]
    },
    {
      "cell_type": "markdown",
      "metadata": {
        "id": "vUraLqkKHHNk",
        "colab_type": "text"
      },
      "source": [
        "You can also pass variable names:"
      ]
    },
    {
      "cell_type": "code",
      "metadata": {
        "id": "gXOtIxmPHHNo",
        "colab_type": "code",
        "colab": {},
        "outputId": "7303e948-bc6d-48e0-ab7c-0d54fa8b065a"
      },
      "source": [
        "x, y = 'some', 'more'\n",
        "print(\"I'm going to inject %s text here, and %s text here.\"%(x,y))"
      ],
      "execution_count": 0,
      "outputs": [
        {
          "output_type": "stream",
          "text": [
            "I'm going to inject some text here, and more text here.\n"
          ],
          "name": "stdout"
        }
      ]
    },
    {
      "cell_type": "markdown",
      "metadata": {
        "id": "pC0ZLbbFHHN0",
        "colab_type": "text"
      },
      "source": [
        "### Format conversion methods.\n",
        "It should be noted that two methods <code>%s</code> and <code>%r</code> convert any python object to a string using two separate methods: `str()` and `repr()`. We will learn more about these functions later on in the course, but you should note that `%r` and `repr()` deliver the *string representation* of the object, including quotation marks and any escape characters."
      ]
    },
    {
      "cell_type": "code",
      "metadata": {
        "id": "lo1dpxRmHHN4",
        "colab_type": "code",
        "colab": {},
        "outputId": "be7e9387-2f90-4480-a62e-352edef943d3"
      },
      "source": [
        "print('He said his name was %s.' %'Fred')\n",
        "print('He said his name was %r.' %'Fred')"
      ],
      "execution_count": 0,
      "outputs": [
        {
          "output_type": "stream",
          "text": [
            "He said his name was Fred.\n",
            "He said his name was 'Fred'.\n"
          ],
          "name": "stdout"
        }
      ]
    },
    {
      "cell_type": "markdown",
      "metadata": {
        "id": "DevnB529HHOH",
        "colab_type": "text"
      },
      "source": [
        "As another example, `\\t` inserts a tab into a string."
      ]
    },
    {
      "cell_type": "code",
      "metadata": {
        "id": "tV5xXfu6HHOM",
        "colab_type": "code",
        "colab": {},
        "outputId": "fcf533e9-7ce2-4c9d-9e35-91cba8772484"
      },
      "source": [
        "print('I once caught a fish %s.' %'this \\tbig')\n",
        "print('I once caught a fish %r.' %'this \\tbig')"
      ],
      "execution_count": 0,
      "outputs": [
        {
          "output_type": "stream",
          "text": [
            "I once caught a fish this \tbig.\n",
            "I once caught a fish 'this \\tbig'.\n"
          ],
          "name": "stdout"
        }
      ]
    },
    {
      "cell_type": "markdown",
      "metadata": {
        "id": "xYpG-IC3HHOX",
        "colab_type": "text"
      },
      "source": [
        "The `%s` operator converts whatever it sees into a string, including integers and floats. The `%d` operator converts numbers to integers first, without rounding. Note the difference below:"
      ]
    },
    {
      "cell_type": "code",
      "metadata": {
        "id": "USu2qVBOHHOa",
        "colab_type": "code",
        "colab": {},
        "outputId": "1c9ec2d1-b438-4d7c-9cae-c08160b25550"
      },
      "source": [
        "print('I wrote %s programs today.' %3.75)\n",
        "print('I wrote %d programs today.' %3.75)   "
      ],
      "execution_count": 0,
      "outputs": [
        {
          "output_type": "stream",
          "text": [
            "I wrote 3.75 programs today.\n",
            "I wrote 3 programs today.\n"
          ],
          "name": "stdout"
        }
      ]
    },
    {
      "cell_type": "markdown",
      "metadata": {
        "id": "77IJyAJuHHOq",
        "colab_type": "text"
      },
      "source": [
        "### Padding and Precision of Floating Point Numbers\n",
        "Floating point numbers use the format <code>%5.2f</code>. Here, <code>5</code> would be the minimum number of characters the string should contain; these may be padded with whitespace if the entire number does not have this many digits. Next to this, <code>.2f</code> stands for how many numbers to show past the decimal point. Let's see some examples:"
      ]
    },
    {
      "cell_type": "code",
      "metadata": {
        "id": "DsKfM5BCHHOu",
        "colab_type": "code",
        "colab": {},
        "outputId": "37710614-b115-4793-eb3e-58f05db37291"
      },
      "source": [
        "print('Floating point numbers: %5.2f' %(13.144))"
      ],
      "execution_count": 0,
      "outputs": [
        {
          "output_type": "stream",
          "text": [
            "Floating point numbers: 13.14\n"
          ],
          "name": "stdout"
        }
      ]
    },
    {
      "cell_type": "code",
      "metadata": {
        "id": "vrNn4ALKHHO4",
        "colab_type": "code",
        "colab": {},
        "outputId": "0acd3dc1-37dd-44a5-cb31-09a0c3edcdfd"
      },
      "source": [
        "print('Floating point numbers: %1.0f' %(13.144))"
      ],
      "execution_count": 0,
      "outputs": [
        {
          "output_type": "stream",
          "text": [
            "Floating point numbers: 13\n"
          ],
          "name": "stdout"
        }
      ]
    },
    {
      "cell_type": "code",
      "metadata": {
        "id": "YW--IP2OHHPE",
        "colab_type": "code",
        "colab": {},
        "outputId": "4886a2b0-bc4b-4b5e-9d1b-724795e97c09"
      },
      "source": [
        "print('Floating point numbers: %1.5f' %(13.144))"
      ],
      "execution_count": 0,
      "outputs": [
        {
          "output_type": "stream",
          "text": [
            "Floating point numbers: 13.14400\n"
          ],
          "name": "stdout"
        }
      ]
    },
    {
      "cell_type": "code",
      "metadata": {
        "id": "zcWHLsr_HHPO",
        "colab_type": "code",
        "colab": {},
        "outputId": "a0dd2418-61a2-4a57-a675-cbed91722d41"
      },
      "source": [
        "print('Floating point numbers: %10.2f' %(13.144))"
      ],
      "execution_count": 0,
      "outputs": [
        {
          "output_type": "stream",
          "text": [
            "Floating point numbers:      13.14\n"
          ],
          "name": "stdout"
        }
      ]
    },
    {
      "cell_type": "code",
      "metadata": {
        "id": "VP3CR0wtHHPY",
        "colab_type": "code",
        "colab": {},
        "outputId": "e33ee822-655a-46f4-c13e-257cfabdd642"
      },
      "source": [
        "print('Floating point numbers: %25.2f' %(13.144))"
      ],
      "execution_count": 0,
      "outputs": [
        {
          "output_type": "stream",
          "text": [
            "Floating point numbers:                     13.14\n"
          ],
          "name": "stdout"
        }
      ]
    },
    {
      "cell_type": "markdown",
      "metadata": {
        "id": "-EtspTQPHHPl",
        "colab_type": "text"
      },
      "source": [
        "For more information on string formatting with placeholders visit https://docs.python.org/3/library/stdtypes.html#old-string-formatting"
      ]
    },
    {
      "cell_type": "markdown",
      "metadata": {
        "id": "xLOKvpW8HHPn",
        "colab_type": "text"
      },
      "source": [
        "### Multiple Formatting\n",
        "Nothing prohibits using more than one conversion tool in the same print statement:"
      ]
    },
    {
      "cell_type": "code",
      "metadata": {
        "id": "RXw46dNFHHPr",
        "colab_type": "code",
        "colab": {},
        "outputId": "aeedfc42-c83c-42d5-fa42-3d2ef2abd109"
      },
      "source": [
        "print('First: %s, Second: %5.2f, Third: %r' %('hi!',3.1415,'bye!'))"
      ],
      "execution_count": 0,
      "outputs": [
        {
          "output_type": "stream",
          "text": [
            "First: hi!, Second:  3.14, Third: 'bye!'\n"
          ],
          "name": "stdout"
        }
      ]
    },
    {
      "cell_type": "markdown",
      "metadata": {
        "id": "nhT4u81xHHPz",
        "colab_type": "text"
      },
      "source": [
        "## Formatting with the `.format()` method\n",
        "A better way to format objects into your strings for print statements is with the string `.format()` method. The syntax is:\n",
        "\n",
        "    'String here {} then also {}'.format('something1','something2')\n",
        "    \n",
        "For example:"
      ]
    },
    {
      "cell_type": "code",
      "metadata": {
        "id": "GkpNWWIxHHP2",
        "colab_type": "code",
        "colab": {},
        "outputId": "604e2325-9091-40bb-a511-44bfacb02986"
      },
      "source": [
        "print('This is a string with an {}'.format('insert'))"
      ],
      "execution_count": 0,
      "outputs": [
        {
          "output_type": "stream",
          "text": [
            "This is a string with an insert\n"
          ],
          "name": "stdout"
        }
      ]
    },
    {
      "cell_type": "markdown",
      "metadata": {
        "id": "b3JDK3SfHHP-",
        "colab_type": "text"
      },
      "source": [
        "### The .format() method has several advantages over the %s placeholder method:"
      ]
    },
    {
      "cell_type": "markdown",
      "metadata": {
        "id": "77o_AVk1HHQB",
        "colab_type": "text"
      },
      "source": [
        "#### 1. Inserted objects can be called by index position:"
      ]
    },
    {
      "cell_type": "code",
      "metadata": {
        "id": "bISzbLgCHHQE",
        "colab_type": "code",
        "colab": {},
        "outputId": "55104835-215a-493a-85d0-f998f558481f"
      },
      "source": [
        "print('The {2} {1} {0}'.format('fox','brown','quick'))"
      ],
      "execution_count": 0,
      "outputs": [
        {
          "output_type": "stream",
          "text": [
            "The quick brown fox\n"
          ],
          "name": "stdout"
        }
      ]
    },
    {
      "cell_type": "markdown",
      "metadata": {
        "id": "u5IM0C9zHHQK",
        "colab_type": "text"
      },
      "source": [
        "#### 2. Inserted objects can be assigned keywords:"
      ]
    },
    {
      "cell_type": "code",
      "metadata": {
        "id": "1gPs8JcpHHQN",
        "colab_type": "code",
        "colab": {},
        "outputId": "b2088ab5-80d8-40b0-9b23-fb2be6da24b8"
      },
      "source": [
        "print('First Object: {a}, Second Object: {b}, Third Object: {c}'.format(a=1,b='Two',c=12.3))"
      ],
      "execution_count": 0,
      "outputs": [
        {
          "output_type": "stream",
          "text": [
            "First Object: 1, Second Object: Two, Third Object: 12.3\n"
          ],
          "name": "stdout"
        }
      ]
    },
    {
      "cell_type": "markdown",
      "metadata": {
        "id": "LgQS3oplHHQV",
        "colab_type": "text"
      },
      "source": [
        "#### 3. Inserted objects can be reused, avoiding duplication:"
      ]
    },
    {
      "cell_type": "code",
      "metadata": {
        "id": "AC6pcyCaHHQX",
        "colab_type": "code",
        "colab": {},
        "outputId": "11fccc36-1320-48fd-b32b-2f128bf7e42d"
      },
      "source": [
        "print('A %s saved is a %s earned.' %('penny','penny'))\n",
        "# vs.\n",
        "print('A {p} saved is a {p} earned.'.format(p='penny'))"
      ],
      "execution_count": 0,
      "outputs": [
        {
          "output_type": "stream",
          "text": [
            "A penny saved is a penny earned.\n",
            "A penny saved is a penny earned.\n"
          ],
          "name": "stdout"
        }
      ]
    },
    {
      "cell_type": "markdown",
      "metadata": {
        "id": "K61dqQe-HHQf",
        "colab_type": "text"
      },
      "source": [
        "### Alignment, padding and precision with `.format()`\n",
        "Within the curly braces you can assign field lengths, left/right alignments, rounding parameters and more"
      ]
    },
    {
      "cell_type": "code",
      "metadata": {
        "id": "EFcZ5Va1HHQj",
        "colab_type": "code",
        "colab": {},
        "outputId": "6555cbc6-1cc7-4997-9100-1fac8f176037"
      },
      "source": [
        "print('{0:8} | {1:9}'.format('Fruit', 'Quantity'))\n",
        "print('{0:8} | {1:9}'.format('Apples', 3.))\n",
        "print('{0:8} | {1:9}'.format('Oranges', 10))"
      ],
      "execution_count": 0,
      "outputs": [
        {
          "output_type": "stream",
          "text": [
            "Fruit    | Quantity \n",
            "Apples   |       3.0\n",
            "Oranges  |        10\n"
          ],
          "name": "stdout"
        }
      ]
    },
    {
      "cell_type": "markdown",
      "metadata": {
        "id": "Y_W9B3_MHHQq",
        "colab_type": "text"
      },
      "source": [
        "By default, `.format()` aligns text to the left, numbers to the right. You can pass an optional `<`,`^`, or `>` to set a left, center or right alignment:"
      ]
    },
    {
      "cell_type": "code",
      "metadata": {
        "id": "YCx7lJbwHHQs",
        "colab_type": "code",
        "colab": {},
        "outputId": "b27595c7-1467-410e-f09f-6aadcdb4cda5"
      },
      "source": [
        "print('{0:<8} | {1:^8} | {2:>8}'.format('Left','Center','Right'))\n",
        "print('{0:<8} | {1:^8} | {2:>8}'.format(11,22,33))"
      ],
      "execution_count": 0,
      "outputs": [
        {
          "output_type": "stream",
          "text": [
            "Left     |  Center  |    Right\n",
            "11       |    22    |       33\n"
          ],
          "name": "stdout"
        }
      ]
    },
    {
      "cell_type": "markdown",
      "metadata": {
        "id": "Mgdt3-RgHHQ0",
        "colab_type": "text"
      },
      "source": [
        "You can precede the aligment operator with a padding character"
      ]
    },
    {
      "cell_type": "code",
      "metadata": {
        "id": "stXUqRTuHHQ2",
        "colab_type": "code",
        "colab": {},
        "outputId": "366a9efb-12bd-4446-ac15-ca3a2a530e45"
      },
      "source": [
        "print('{0:=<8} | {1:-^8} | {2:.>8}'.format('Left','Center','Right'))\n",
        "print('{0:=<8} | {1:-^8} | {2:.>8}'.format(11,22,33))"
      ],
      "execution_count": 0,
      "outputs": [
        {
          "output_type": "stream",
          "text": [
            "Left==== | -Center- | ...Right\n",
            "11====== | ---22--- | ......33\n"
          ],
          "name": "stdout"
        }
      ]
    },
    {
      "cell_type": "markdown",
      "metadata": {
        "id": "rWZac4vUHHQ-",
        "colab_type": "text"
      },
      "source": [
        "Field widths and float precision are handled in a way similar to placeholders. The following two print statements are equivalent:"
      ]
    },
    {
      "cell_type": "code",
      "metadata": {
        "id": "M-zap29LHHRA",
        "colab_type": "code",
        "colab": {},
        "outputId": "2b13c252-bd58-46c9-bad0-e9a41e04c0fd"
      },
      "source": [
        "print('This is my ten-character, two-decimal number:%10.2f' %13.579)\n",
        "print('This is my ten-character, two-decimal number:{0:10.2f}'.format(13.579))"
      ],
      "execution_count": 0,
      "outputs": [
        {
          "output_type": "stream",
          "text": [
            "This is my ten-character, two-decimal number:     13.58\n",
            "This is my ten-character, two-decimal number:     13.58\n"
          ],
          "name": "stdout"
        }
      ]
    },
    {
      "cell_type": "markdown",
      "metadata": {
        "id": "1rShJIkIHHRF",
        "colab_type": "text"
      },
      "source": [
        "Note that there are 5 spaces following the colon, and 5 characters taken up by 13.58, for a total of ten characters.\n",
        "\n",
        "For more information on the string `.format()` method visit https://docs.python.org/3/library/string.html#formatstrings"
      ]
    },
    {
      "cell_type": "markdown",
      "metadata": {
        "id": "QXtRJOraHHRG",
        "colab_type": "text"
      },
      "source": [
        "## Formatted String Literals (f-strings)"
      ]
    },
    {
      "cell_type": "markdown",
      "metadata": {
        "id": "Awch3XN1HHRJ",
        "colab_type": "text"
      },
      "source": [
        "Introduced in Python 3.6, f-strings offer several benefits over the older `.format()` string method described above. For one, you can bring outside variables immediately into to the string rather than pass them as arguments through `.format(var)`."
      ]
    },
    {
      "cell_type": "code",
      "metadata": {
        "id": "S4P9ZKw3HHRN",
        "colab_type": "code",
        "colab": {},
        "outputId": "6424f6bd-e6e5-44e7-bc34-e986b7551f0c"
      },
      "source": [
        "name = 'Fred'\n",
        "\n",
        "print(f\"He said his name is {name}.\")"
      ],
      "execution_count": 0,
      "outputs": [
        {
          "output_type": "stream",
          "text": [
            "He said his name is Fred.\n"
          ],
          "name": "stdout"
        }
      ]
    },
    {
      "cell_type": "markdown",
      "metadata": {
        "id": "CAqoQIKWHHRY",
        "colab_type": "text"
      },
      "source": [
        "Pass `!r` to get the string representation:"
      ]
    },
    {
      "cell_type": "code",
      "metadata": {
        "id": "B_CuAmRWHHRa",
        "colab_type": "code",
        "colab": {},
        "outputId": "c07c704a-4d4c-4128-b909-a9df78b5eff9"
      },
      "source": [
        "print(f\"He said his name is {name!r}\")"
      ],
      "execution_count": 0,
      "outputs": [
        {
          "output_type": "stream",
          "text": [
            "He said his name is 'Fred'\n"
          ],
          "name": "stdout"
        }
      ]
    },
    {
      "cell_type": "markdown",
      "metadata": {
        "id": "s9MEJ8QXHHRg",
        "colab_type": "text"
      },
      "source": [
        "#### Float formatting follows `\"result: {value:{width}.{precision}}\"`"
      ]
    },
    {
      "cell_type": "markdown",
      "metadata": {
        "id": "j6RSvYFcHHRi",
        "colab_type": "text"
      },
      "source": [
        "Where with the `.format()` method you might see `{value:10.4f}`, with f-strings this can become `{value:{10}.{6}}`\n"
      ]
    },
    {
      "cell_type": "code",
      "metadata": {
        "id": "Dxf3wEyvHHRj",
        "colab_type": "code",
        "colab": {},
        "outputId": "36abbe4c-1420-4b4a-b9d6-3e496f0ccd4d"
      },
      "source": [
        "num = 23.45678\n",
        "print(\"My 10 character, four decimal number is:{0:10.4f}\".format(num))\n",
        "print(f\"My 10 character, four decimal number is:{num:{10}.{6}}\")"
      ],
      "execution_count": 0,
      "outputs": [
        {
          "output_type": "stream",
          "text": [
            "My 10 character, four decimal number is:   23.4568\n",
            "My 10 character, four decimal number is:   23.4568\n"
          ],
          "name": "stdout"
        }
      ]
    },
    {
      "cell_type": "markdown",
      "metadata": {
        "id": "YAoeHkZWHHRq",
        "colab_type": "text"
      },
      "source": [
        "Note that with f-strings, *precision* refers to the total number of digits, not just those following the decimal. This fits more closely with scientific notation and statistical analysis. Unfortunately, f-strings do not pad to the right of the decimal, even if precision allows it:"
      ]
    },
    {
      "cell_type": "code",
      "metadata": {
        "id": "tyP9TMhUHHRr",
        "colab_type": "code",
        "colab": {},
        "outputId": "ec438d8e-1360-4088-be7a-130eaeb63891"
      },
      "source": [
        "num = 23.45\n",
        "print(\"My 10 character, four decimal number is:{0:10.4f}\".format(num))\n",
        "print(f\"My 10 character, four decimal number is:{num:{10}.{6}}\")"
      ],
      "execution_count": 0,
      "outputs": [
        {
          "output_type": "stream",
          "text": [
            "My 10 character, four decimal number is:   23.4500\n",
            "My 10 character, four decimal number is:     23.45\n"
          ],
          "name": "stdout"
        }
      ]
    },
    {
      "cell_type": "markdown",
      "metadata": {
        "id": "8wPvhNJrHHRw",
        "colab_type": "text"
      },
      "source": [
        "If this becomes important, you can always use `.format()` method syntax inside an f-string:"
      ]
    },
    {
      "cell_type": "code",
      "metadata": {
        "id": "4-oKFImGHHRy",
        "colab_type": "code",
        "colab": {},
        "outputId": "dcc03ed4-da2b-4609-81b8-f2ca32a113ad"
      },
      "source": [
        "num = 23.45\n",
        "print(\"My 10 character, four decimal number is:{0:10.4f}\".format(num))\n",
        "print(f\"My 10 character, four decimal number is:{num:10.4f}\")"
      ],
      "execution_count": 0,
      "outputs": [
        {
          "output_type": "stream",
          "text": [
            "My 10 character, four decimal number is:   23.4500\n",
            "My 10 character, four decimal number is:   23.4500\n"
          ],
          "name": "stdout"
        }
      ]
    },
    {
      "cell_type": "markdown",
      "metadata": {
        "id": "Tf9sSstkHHR4",
        "colab_type": "text"
      },
      "source": [
        "For more info on formatted string literals visit https://docs.python.org/3/reference/lexical_analysis.html#f-strings"
      ]
    },
    {
      "cell_type": "markdown",
      "metadata": {
        "id": "CI_g2CLdHHR6",
        "colab_type": "text"
      },
      "source": [
        "That is the basics of string formatting!"
      ]
    }
  ]
}