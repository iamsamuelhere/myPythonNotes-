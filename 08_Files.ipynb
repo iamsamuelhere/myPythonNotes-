{
  "nbformat": 4,
  "nbformat_minor": 0,
  "metadata": {
    "kernelspec": {
      "display_name": "Python 3",
      "language": "python",
      "name": "python3"
    },
    "language_info": {
      "codemirror_mode": {
        "name": "ipython",
        "version": 3
      },
      "file_extension": ".py",
      "mimetype": "text/x-python",
      "name": "python",
      "nbconvert_exporter": "python",
      "pygments_lexer": "ipython3",
      "version": "3.6.2"
    },
    "colab": {
      "name": "08-Files.ipynb",
      "provenance": []
    }
  },
  "cells": [
    {
      "cell_type": "markdown",
      "metadata": {
        "id": "EmGsd3f8LxNN",
        "colab_type": "text"
      },
      "source": [
        "# Files\n",
        "\n",
        "Python uses file objects to interact with external files on your computer. These file objects can be any sort of file you have on your computer, whether it be an audio file, a text file, emails, Excel documents, etc. Note: You will probably need to install certain libraries or modules to interact with those various file types, but they are easily available. (We will cover downloading modules later on in the course).\n",
        "\n",
        "Python has a built-in open function that allows us to open and play with basic file types. First we will need a file though. We're going to use some IPython magic to create a text file!\n",
        "\n",
        "## IPython Writing a File \n",
        "#### This function is specific to jupyter notebooks! Alternatively, quickly create a simple .txt file with sublime text editor."
      ]
    },
    {
      "cell_type": "code",
      "metadata": {
        "id": "m_ug2TivLxNq",
        "colab_type": "code",
        "colab": {},
        "outputId": "f020d694-ab6d-4f73-e379-65ff2d161125"
      },
      "source": [
        "%%writefile test.txt\n",
        "Hello, this is a quick test file."
      ],
      "execution_count": 0,
      "outputs": [
        {
          "output_type": "stream",
          "text": [
            "Overwriting test.txt\n"
          ],
          "name": "stdout"
        }
      ]
    },
    {
      "cell_type": "markdown",
      "metadata": {
        "id": "CS24_9MuLxOJ",
        "colab_type": "text"
      },
      "source": [
        "## Python Opening a file\n",
        "\n",
        "Let's being by opening the file test.txt that is located in the same directory as this notebook. For now we will work with files located in the same directory as the notebook or .py script you are using.\n",
        "\n",
        "It is very easy to get an error on this step:"
      ]
    },
    {
      "cell_type": "code",
      "metadata": {
        "id": "pDF0tynCLxOM",
        "colab_type": "code",
        "colab": {},
        "outputId": "0705da60-3348-497d-a3bf-a8e23cf08771"
      },
      "source": [
        "myfile = open('whoops.txt')"
      ],
      "execution_count": 0,
      "outputs": [
        {
          "output_type": "error",
          "ename": "FileNotFoundError",
          "evalue": "[Errno 2] No such file or directory: 'whoops.txt'",
          "traceback": [
            "\u001b[1;31m---------------------------------------------------------------------------\u001b[0m",
            "\u001b[1;31mFileNotFoundError\u001b[0m                         Traceback (most recent call last)",
            "\u001b[1;32m<ipython-input-1-dafe28ee473f>\u001b[0m in \u001b[0;36m<module>\u001b[1;34m()\u001b[0m\n\u001b[1;32m----> 1\u001b[1;33m \u001b[0mmyfile\u001b[0m \u001b[1;33m=\u001b[0m \u001b[0mopen\u001b[0m\u001b[1;33m(\u001b[0m\u001b[1;34m'whoops.txt'\u001b[0m\u001b[1;33m)\u001b[0m\u001b[1;33m\u001b[0m\u001b[0m\n\u001b[0m",
            "\u001b[1;31mFileNotFoundError\u001b[0m: [Errno 2] No such file or directory: 'whoops.txt'"
          ]
        }
      ]
    },
    {
      "cell_type": "markdown",
      "metadata": {
        "id": "gFfHyqHeLxOa",
        "colab_type": "text"
      },
      "source": [
        "To avoid this error,make sure your .txt file is saved in the same location as your notebook, to check your notebook location, use **pwd**:"
      ]
    },
    {
      "cell_type": "code",
      "metadata": {
        "id": "ZH0YY85QLxOc",
        "colab_type": "code",
        "colab": {},
        "outputId": "a829bf88-e0c0-449e-bbcb-4707f4ed2a3c"
      },
      "source": [
        "pwd"
      ],
      "execution_count": 0,
      "outputs": [
        {
          "output_type": "execute_result",
          "data": {
            "text/plain": [
              "'C:\\\\Users\\\\Marcial\\\\Pierian-Data-Courses\\\\Complete-Python-3-Bootcamp\\\\00-Python Object and Data Structure Basics'"
            ]
          },
          "metadata": {
            "tags": []
          },
          "execution_count": 2
        }
      ]
    },
    {
      "cell_type": "markdown",
      "metadata": {
        "id": "w0aghcIBLxOp",
        "colab_type": "text"
      },
      "source": [
        "**Alternatively, to grab files from any location on your computer, simply pass in the entire file path. **\n",
        "\n",
        "For Windows you need to use double \\ so python doesn't treat the second \\ as an escape character, a file path is in the form:\n",
        "\n",
        "    myfile = open(\"C:\\\\Users\\\\YourUserName\\\\Home\\\\Folder\\\\myfile.txt\")\n",
        "\n",
        "For MacOS and Linux you use slashes in the opposite direction:\n",
        "\n",
        "    myfile = open(\"/Users/YouUserName/Folder/myfile.txt\")"
      ]
    },
    {
      "cell_type": "code",
      "metadata": {
        "id": "5pRSFHVhLxOs",
        "colab_type": "code",
        "colab": {}
      },
      "source": [
        "# Open the text.txt we made earlier\n",
        "my_file = open('test.txt')"
      ],
      "execution_count": 0,
      "outputs": []
    },
    {
      "cell_type": "code",
      "metadata": {
        "id": "6r4GcSqDLxO5",
        "colab_type": "code",
        "colab": {},
        "outputId": "be72f24e-0901-4cc5-c5aa-cae546712329"
      },
      "source": [
        "# We can now read the file\n",
        "my_file.read()"
      ],
      "execution_count": 0,
      "outputs": [
        {
          "output_type": "execute_result",
          "data": {
            "text/plain": [
              "'Hello, this is a quick test file.'"
            ]
          },
          "metadata": {
            "tags": []
          },
          "execution_count": 3
        }
      ]
    },
    {
      "cell_type": "code",
      "metadata": {
        "id": "5MrQETAYLxPB",
        "colab_type": "code",
        "colab": {},
        "outputId": "ebec4db1-a6c2-4efe-d720-086060b1a932"
      },
      "source": [
        "# But what happens if we try to read it again?\n",
        "my_file.read()"
      ],
      "execution_count": 0,
      "outputs": [
        {
          "output_type": "execute_result",
          "data": {
            "text/plain": [
              "''"
            ]
          },
          "metadata": {
            "tags": []
          },
          "execution_count": 4
        }
      ]
    },
    {
      "cell_type": "markdown",
      "metadata": {
        "id": "PusWSb6lLxPM",
        "colab_type": "text"
      },
      "source": [
        "This happens because you can imagine the reading \"cursor\" is at the end of the file after having read it. So there is nothing left to read. We can reset the \"cursor\" like this:"
      ]
    },
    {
      "cell_type": "code",
      "metadata": {
        "id": "jLtK9vLOLxPS",
        "colab_type": "code",
        "colab": {},
        "outputId": "b52e038b-e3b3-4f4b-f809-0aa7d464c479"
      },
      "source": [
        "# Seek to the start of file (index 0)\n",
        "my_file.seek(0)"
      ],
      "execution_count": 0,
      "outputs": [
        {
          "output_type": "execute_result",
          "data": {
            "text/plain": [
              "0"
            ]
          },
          "metadata": {
            "tags": []
          },
          "execution_count": 5
        }
      ]
    },
    {
      "cell_type": "code",
      "metadata": {
        "id": "uHZoOj-XLxPn",
        "colab_type": "code",
        "colab": {},
        "outputId": "cbe40dbc-623e-450d-f62e-5b378d4174d9"
      },
      "source": [
        "# Now read again\n",
        "my_file.read()"
      ],
      "execution_count": 0,
      "outputs": [
        {
          "output_type": "execute_result",
          "data": {
            "text/plain": [
              "'Hello, this is a quick test file.'"
            ]
          },
          "metadata": {
            "tags": []
          },
          "execution_count": 6
        }
      ]
    },
    {
      "cell_type": "markdown",
      "metadata": {
        "id": "_NSl3ifSLxPw",
        "colab_type": "text"
      },
      "source": [
        "You can read a file line by line using the readlines method. Use caution with large files, since everything will be held in memory. We will learn how to iterate over large files later in the course."
      ]
    },
    {
      "cell_type": "code",
      "metadata": {
        "id": "RFdu7JjYLxP0",
        "colab_type": "code",
        "colab": {},
        "outputId": "df059b2d-1ead-4379-cfa3-bb3dac008b8d"
      },
      "source": [
        "# Readlines returns a list of the lines in the file\n",
        "my_file.seek(0)\n",
        "my_file.readlines()"
      ],
      "execution_count": 0,
      "outputs": [
        {
          "output_type": "execute_result",
          "data": {
            "text/plain": [
              "['Hello, this is a quick test file.']"
            ]
          },
          "metadata": {
            "tags": []
          },
          "execution_count": 7
        }
      ]
    },
    {
      "cell_type": "markdown",
      "metadata": {
        "id": "8jtHQsU7LxP_",
        "colab_type": "text"
      },
      "source": [
        "When you have finished using a file, it is always good practice to close it."
      ]
    },
    {
      "cell_type": "code",
      "metadata": {
        "id": "qtF-GJ0sLxQD",
        "colab_type": "code",
        "colab": {}
      },
      "source": [
        "my_file.close()"
      ],
      "execution_count": 0,
      "outputs": []
    },
    {
      "cell_type": "markdown",
      "metadata": {
        "id": "eecVlrlCLxQT",
        "colab_type": "text"
      },
      "source": [
        "## Writing to a File\n",
        "\n",
        "By default, the `open()` function will only allow us to read the file. We need to pass the argument `'w'` to write over the file. For example:"
      ]
    },
    {
      "cell_type": "code",
      "metadata": {
        "id": "UTZP1ZWTLxQV",
        "colab_type": "code",
        "colab": {}
      },
      "source": [
        "# Add a second argument to the function, 'w' which stands for write.\n",
        "# Passing 'w+' lets us read and write to the file\n",
        "\n",
        "my_file = open('test.txt','w+')"
      ],
      "execution_count": 0,
      "outputs": []
    },
    {
      "cell_type": "markdown",
      "metadata": {
        "id": "7wP3zR3BLxQe",
        "colab_type": "text"
      },
      "source": [
        "### <strong><font color='red'>Use caution!</font></strong> \n",
        "Opening a file with `'w'` or `'w+'` truncates the original, meaning that anything that was in the original file **is deleted**!"
      ]
    },
    {
      "cell_type": "code",
      "metadata": {
        "id": "i8a5lZl5LxQi",
        "colab_type": "code",
        "colab": {},
        "outputId": "585523b5-815c-4e96-ef3c-97912cda04c6"
      },
      "source": [
        "# Write to the file\n",
        "my_file.write('This is a new line')"
      ],
      "execution_count": 0,
      "outputs": [
        {
          "output_type": "execute_result",
          "data": {
            "text/plain": [
              "18"
            ]
          },
          "metadata": {
            "tags": []
          },
          "execution_count": 10
        }
      ]
    },
    {
      "cell_type": "code",
      "metadata": {
        "id": "aO6xv1v_LxQs",
        "colab_type": "code",
        "colab": {},
        "outputId": "5d950671-dcbd-4d77-dadd-546c949d8df4"
      },
      "source": [
        "# Read the file\n",
        "my_file.seek(0)\n",
        "my_file.read()"
      ],
      "execution_count": 0,
      "outputs": [
        {
          "output_type": "execute_result",
          "data": {
            "text/plain": [
              "'This is a new line'"
            ]
          },
          "metadata": {
            "tags": []
          },
          "execution_count": 11
        }
      ]
    },
    {
      "cell_type": "code",
      "metadata": {
        "id": "ZPa7iD5TLxQ0",
        "colab_type": "code",
        "colab": {}
      },
      "source": [
        "my_file.close()  # always do this when you're done with a file"
      ],
      "execution_count": 0,
      "outputs": []
    },
    {
      "cell_type": "markdown",
      "metadata": {
        "id": "q_uOe4T1LxQ_",
        "colab_type": "text"
      },
      "source": [
        "## Appending to a File\n",
        "Passing the argument `'a'` opens the file and puts the pointer at the end, so anything written is appended. Like `'w+'`, `'a+'` lets us read and write to a file. If the file does not exist, one will be created."
      ]
    },
    {
      "cell_type": "code",
      "metadata": {
        "id": "t-l0ktDDLxRB",
        "colab_type": "code",
        "colab": {},
        "outputId": "9dd69bb2-a830-4e4a-f97a-8a664344d09d"
      },
      "source": [
        "my_file = open('test.txt','a+')\n",
        "my_file.write('\\nThis is text being appended to test.txt')\n",
        "my_file.write('\\nAnd another line here.')"
      ],
      "execution_count": 0,
      "outputs": [
        {
          "output_type": "execute_result",
          "data": {
            "text/plain": [
              "23"
            ]
          },
          "metadata": {
            "tags": []
          },
          "execution_count": 13
        }
      ]
    },
    {
      "cell_type": "code",
      "metadata": {
        "id": "kJnOtEZ2LxRI",
        "colab_type": "code",
        "colab": {},
        "outputId": "6b352b10-2a9e-4db2-f968-6ce52e9758ff"
      },
      "source": [
        "my_file.seek(0)\n",
        "print(my_file.read())"
      ],
      "execution_count": 0,
      "outputs": [
        {
          "output_type": "stream",
          "text": [
            "This is a new line\n",
            "This is text being appended to test.txt\n",
            "And another line here.\n"
          ],
          "name": "stdout"
        }
      ]
    },
    {
      "cell_type": "code",
      "metadata": {
        "id": "shUKB2ZPLxRQ",
        "colab_type": "code",
        "colab": {}
      },
      "source": [
        "my_file.close()"
      ],
      "execution_count": 0,
      "outputs": []
    },
    {
      "cell_type": "markdown",
      "metadata": {
        "id": "B0pyPx8HLxRW",
        "colab_type": "text"
      },
      "source": [
        "### Appending with `%%writefile`\n",
        "We can do the same thing using IPython cell magic:"
      ]
    },
    {
      "cell_type": "code",
      "metadata": {
        "id": "i915uzTWLxRY",
        "colab_type": "code",
        "colab": {},
        "outputId": "754b46d5-4259-40b0-d62f-5c7373297af6"
      },
      "source": [
        "%%writefile -a test.txt\n",
        "\n",
        "This is text being appended to test.txt\n",
        "And another line here."
      ],
      "execution_count": 0,
      "outputs": [
        {
          "output_type": "stream",
          "text": [
            "Appending to test.txt\n"
          ],
          "name": "stdout"
        }
      ]
    },
    {
      "cell_type": "markdown",
      "metadata": {
        "id": "6JmXHcuDLxRh",
        "colab_type": "text"
      },
      "source": [
        "Add a blank space if you want the first line to begin on its own line, as Jupyter won't recognize escape sequences like `\\n`"
      ]
    },
    {
      "cell_type": "markdown",
      "metadata": {
        "id": "WXczPc6iLxRk",
        "colab_type": "text"
      },
      "source": [
        "## Iterating through a File\n",
        "\n",
        "Lets get a quick preview of a for loop by iterating over a text file. First let's make a new text file with some IPython Magic:"
      ]
    },
    {
      "cell_type": "code",
      "metadata": {
        "id": "K8Ndxy8pLxRn",
        "colab_type": "code",
        "colab": {},
        "outputId": "8f958a07-0b2b-47b2-bd9b-f4bc7eb64f5b"
      },
      "source": [
        "%%writefile test.txt\n",
        "First Line\n",
        "Second Line"
      ],
      "execution_count": 0,
      "outputs": [
        {
          "output_type": "stream",
          "text": [
            "Overwriting test.txt\n"
          ],
          "name": "stdout"
        }
      ]
    },
    {
      "cell_type": "markdown",
      "metadata": {
        "id": "SVrMCYg3LxRw",
        "colab_type": "text"
      },
      "source": [
        "Now we can use a little bit of flow to tell the program to for through every line of the file and do something:"
      ]
    },
    {
      "cell_type": "code",
      "metadata": {
        "id": "kuUMsJfnLxRx",
        "colab_type": "code",
        "colab": {},
        "outputId": "e436d3cb-88b8-4656-9396-edd48befb91e"
      },
      "source": [
        "for line in open('test.txt'):\n",
        "    print(line)"
      ],
      "execution_count": 0,
      "outputs": [
        {
          "output_type": "stream",
          "text": [
            "First Line\n",
            "\n",
            "Second Line\n"
          ],
          "name": "stdout"
        }
      ]
    },
    {
      "cell_type": "markdown",
      "metadata": {
        "id": "j-3Kqi89LxR3",
        "colab_type": "text"
      },
      "source": [
        "Don't worry about fully understanding this yet, for loops are coming up soon. But we'll break down what we did above. We said that for every line in this text file, go ahead and print that line. It's important to note a few things here:\n",
        "\n",
        "1. We could have called the \"line\" object anything (see example below).\n",
        "2. By not calling `.read()` on the file, the whole text file was not stored in memory.\n",
        "3. Notice the indent on the second line for print. This whitespace is required in Python."
      ]
    },
    {
      "cell_type": "code",
      "metadata": {
        "id": "v08yO4kRLxR4",
        "colab_type": "code",
        "colab": {},
        "outputId": "d551b0c6-c40a-42bb-dfb2-b648d49e95c8"
      },
      "source": [
        "# Pertaining to the first point above\n",
        "for asdf in open('test.txt'):\n",
        "    print(asdf)"
      ],
      "execution_count": 0,
      "outputs": [
        {
          "output_type": "stream",
          "text": [
            "First Line\n",
            "\n",
            "Second Line\n"
          ],
          "name": "stdout"
        }
      ]
    },
    {
      "cell_type": "markdown",
      "metadata": {
        "id": "623qlRL3LxSA",
        "colab_type": "text"
      },
      "source": [
        "We'll learn a lot more about this later, but up next: Sets and Booleans!"
      ]
    }
  ]
}