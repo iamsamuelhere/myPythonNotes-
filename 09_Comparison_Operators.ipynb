{
  "nbformat": 4,
  "nbformat_minor": 0,
  "metadata": {
    "kernelspec": {
      "display_name": "Python 3",
      "language": "python",
      "name": "python3"
    },
    "language_info": {
      "codemirror_mode": {
        "name": "ipython",
        "version": 3
      },
      "file_extension": ".py",
      "mimetype": "text/x-python",
      "name": "python",
      "nbconvert_exporter": "python",
      "pygments_lexer": "ipython3",
      "version": "3.6.2"
    },
    "colab": {
      "name": "09-Comparison Operators.ipynb",
      "provenance": [],
      "collapsed_sections": []
    }
  },
  "cells": [
    {
      "cell_type": "markdown",
      "metadata": {
        "id": "XbHAAn1nPVo0",
        "colab_type": "text"
      },
      "source": [
        "# Comparison Operators \n",
        "\n",
        "In this lecture we will be learning about Comparison Operators in Python. These operators will allow us to compare variables and output a Boolean value (True or False). \n",
        "\n",
        "If you have any sort of background in Math, these operators should be very straight forward.\n",
        "\n",
        "First we'll present a table of the comparison operators and then work through some examples:\n",
        "\n",
        "<h2> Table of Comparison Operators </h2><p>  In the table below, a=3 and b=4.</p>\n",
        "\n",
        "<table class=\"table table-bordered\">\n",
        "<tr>\n",
        "<th style=\"width:10%\">Operator</th><th style=\"width:45%\">Description</th><th>Example</th>\n",
        "</tr>\n",
        "<tr>\n",
        "<td>==</td>\n",
        "<td>If the values of two operands are equal, then the condition becomes true.</td>\n",
        "<td> (a == b) is not true.</td>\n",
        "</tr>\n",
        "<tr>\n",
        "<td>!=</td>\n",
        "<td>If values of two operands are not equal, then condition becomes true.</td>\n",
        "<td>(a != b) is true</td>\n",
        "</tr>\n",
        "<tr>\n",
        "<td>&gt;</td>\n",
        "<td>If the value of left operand is greater than the value of right operand, then condition becomes true.</td>\n",
        "<td> (a &gt; b) is not true.</td>\n",
        "</tr>\n",
        "<tr>\n",
        "<td>&lt;</td>\n",
        "<td>If the value of left operand is less than the value of right operand, then condition becomes true.</td>\n",
        "<td> (a &lt; b) is true.</td>\n",
        "</tr>\n",
        "<tr>\n",
        "<td>&gt;=</td>\n",
        "<td>If the value of left operand is greater than or equal to the value of right operand, then condition becomes true.</td>\n",
        "<td> (a &gt;= b) is not true. </td>\n",
        "</tr>\n",
        "<tr>\n",
        "<td>&lt;=</td>\n",
        "<td>If the value of left operand is less than or equal to the value of right operand, then condition becomes true.</td>\n",
        "<td> (a &lt;= b) is true. </td>\n",
        "</tr>\n",
        "</table>"
      ]
    },
    {
      "cell_type": "markdown",
      "metadata": {
        "id": "nBA9C0KVPVo_",
        "colab_type": "text"
      },
      "source": [
        "Let's now work through quick examples of each of these.\n",
        "\n",
        "#### Equal"
      ]
    },
    {
      "cell_type": "code",
      "metadata": {
        "id": "SDGucc0hPVpE",
        "colab_type": "code",
        "colab": {},
        "outputId": "36dc53be-1277-4df2-c6fa-782c6c37c974"
      },
      "source": [
        "2 == 2"
      ],
      "execution_count": 0,
      "outputs": [
        {
          "output_type": "execute_result",
          "data": {
            "text/plain": [
              "True"
            ]
          },
          "metadata": {
            "tags": []
          },
          "execution_count": 1
        }
      ]
    },
    {
      "cell_type": "code",
      "metadata": {
        "id": "36vwkvdaPVpZ",
        "colab_type": "code",
        "colab": {},
        "outputId": "2b64388d-e392-4b51-e974-b5cbbed5aa33"
      },
      "source": [
        "1 == 0"
      ],
      "execution_count": 0,
      "outputs": [
        {
          "output_type": "execute_result",
          "data": {
            "text/plain": [
              "False"
            ]
          },
          "metadata": {
            "tags": []
          },
          "execution_count": 2
        }
      ]
    },
    {
      "cell_type": "markdown",
      "metadata": {
        "id": "EqBYzq_nPVpl",
        "colab_type": "text"
      },
      "source": [
        "Note that <code>==</code> is a <em>comparison</em> operator, while <code>=</code> is an <em>assignment</em> operator."
      ]
    },
    {
      "cell_type": "markdown",
      "metadata": {
        "id": "vpJjVDvvPVpq",
        "colab_type": "text"
      },
      "source": [
        "#### Not Equal"
      ]
    },
    {
      "cell_type": "code",
      "metadata": {
        "id": "DO5HJDP6PVpt",
        "colab_type": "code",
        "colab": {},
        "outputId": "418d73d2-7976-4316-8529-fd293123c079"
      },
      "source": [
        "2 != 1"
      ],
      "execution_count": 0,
      "outputs": [
        {
          "output_type": "execute_result",
          "data": {
            "text/plain": [
              "True"
            ]
          },
          "metadata": {
            "tags": []
          },
          "execution_count": 3
        }
      ]
    },
    {
      "cell_type": "code",
      "metadata": {
        "id": "-VK7m6TnPVp5",
        "colab_type": "code",
        "colab": {},
        "outputId": "5c167544-dfc9-4087-cd7f-4af9ec10b860"
      },
      "source": [
        "2 != 2"
      ],
      "execution_count": 0,
      "outputs": [
        {
          "output_type": "execute_result",
          "data": {
            "text/plain": [
              "False"
            ]
          },
          "metadata": {
            "tags": []
          },
          "execution_count": 4
        }
      ]
    },
    {
      "cell_type": "markdown",
      "metadata": {
        "id": "T6DPNrLsPVqE",
        "colab_type": "text"
      },
      "source": [
        "#### Greater Than"
      ]
    },
    {
      "cell_type": "code",
      "metadata": {
        "id": "lncDomjWPVqH",
        "colab_type": "code",
        "colab": {},
        "outputId": "54458c53-3730-4fc7-8017-c999e1ea456a"
      },
      "source": [
        "2 > 1"
      ],
      "execution_count": 0,
      "outputs": [
        {
          "output_type": "execute_result",
          "data": {
            "text/plain": [
              "True"
            ]
          },
          "metadata": {
            "tags": []
          },
          "execution_count": 5
        }
      ]
    },
    {
      "cell_type": "code",
      "metadata": {
        "id": "1fGpWZrcPVqS",
        "colab_type": "code",
        "colab": {},
        "outputId": "65f52a4a-dcfb-43ac-88af-8640825ac3a8"
      },
      "source": [
        "2 > 4"
      ],
      "execution_count": 0,
      "outputs": [
        {
          "output_type": "execute_result",
          "data": {
            "text/plain": [
              "False"
            ]
          },
          "metadata": {
            "tags": []
          },
          "execution_count": 6
        }
      ]
    },
    {
      "cell_type": "markdown",
      "metadata": {
        "id": "ISXL-gKEPVqd",
        "colab_type": "text"
      },
      "source": [
        "#### Less Than"
      ]
    },
    {
      "cell_type": "code",
      "metadata": {
        "id": "yEc7iPfoPVqh",
        "colab_type": "code",
        "colab": {},
        "outputId": "351ed36b-985c-4b6d-8a57-e1e11fc4c424"
      },
      "source": [
        "2 < 4"
      ],
      "execution_count": 0,
      "outputs": [
        {
          "output_type": "execute_result",
          "data": {
            "text/plain": [
              "True"
            ]
          },
          "metadata": {
            "tags": []
          },
          "execution_count": 7
        }
      ]
    },
    {
      "cell_type": "code",
      "metadata": {
        "id": "yHB-m9oHPVqp",
        "colab_type": "code",
        "colab": {},
        "outputId": "e29ef34a-f91b-42de-cf47-90392038c765"
      },
      "source": [
        "2 < 1"
      ],
      "execution_count": 0,
      "outputs": [
        {
          "output_type": "execute_result",
          "data": {
            "text/plain": [
              "False"
            ]
          },
          "metadata": {
            "tags": []
          },
          "execution_count": 8
        }
      ]
    },
    {
      "cell_type": "markdown",
      "metadata": {
        "id": "xon9rNewPVq0",
        "colab_type": "text"
      },
      "source": [
        "#### Greater Than or Equal to"
      ]
    },
    {
      "cell_type": "code",
      "metadata": {
        "id": "4K-kPmtJPVq4",
        "colab_type": "code",
        "colab": {},
        "outputId": "45b9541d-0937-4adc-a21f-e52d7eebe31d"
      },
      "source": [
        "2 >= 2"
      ],
      "execution_count": 0,
      "outputs": [
        {
          "output_type": "execute_result",
          "data": {
            "text/plain": [
              "True"
            ]
          },
          "metadata": {
            "tags": []
          },
          "execution_count": 9
        }
      ]
    },
    {
      "cell_type": "code",
      "metadata": {
        "id": "cbvc91xRPVrH",
        "colab_type": "code",
        "colab": {},
        "outputId": "59e483fe-038b-43b6-a1b6-f6fdf3eae7d1"
      },
      "source": [
        "2 >= 1"
      ],
      "execution_count": 0,
      "outputs": [
        {
          "output_type": "execute_result",
          "data": {
            "text/plain": [
              "True"
            ]
          },
          "metadata": {
            "tags": []
          },
          "execution_count": 10
        }
      ]
    },
    {
      "cell_type": "markdown",
      "metadata": {
        "id": "KJ8elEBhPVrR",
        "colab_type": "text"
      },
      "source": [
        "#### Less than or Equal to"
      ]
    },
    {
      "cell_type": "code",
      "metadata": {
        "id": "MVSTqltwPVrW",
        "colab_type": "code",
        "colab": {},
        "outputId": "ef1c5a47-24a6-4565-8d65-4b3ecff65142"
      },
      "source": [
        "2 <= 2"
      ],
      "execution_count": 0,
      "outputs": [
        {
          "output_type": "execute_result",
          "data": {
            "text/plain": [
              "True"
            ]
          },
          "metadata": {
            "tags": []
          },
          "execution_count": 11
        }
      ]
    },
    {
      "cell_type": "code",
      "metadata": {
        "id": "FzPrLVO_PVrh",
        "colab_type": "code",
        "colab": {},
        "outputId": "b9f8356c-0d0f-40f8-c998-a8c29d82df84"
      },
      "source": [
        "2 <= 4"
      ],
      "execution_count": 0,
      "outputs": [
        {
          "output_type": "execute_result",
          "data": {
            "text/plain": [
              "True"
            ]
          },
          "metadata": {
            "tags": []
          },
          "execution_count": 12
        }
      ]
    }
  ]
}