{
  "nbformat": 4,
  "nbformat_minor": 0,
  "metadata": {
    "kernelspec": {
      "display_name": "Python 3",
      "language": "python",
      "name": "python3"
    },
    "language_info": {
      "codemirror_mode": {
        "name": "ipython",
        "version": 3
      },
      "file_extension": ".py",
      "mimetype": "text/x-python",
      "name": "python",
      "nbconvert_exporter": "python",
      "pygments_lexer": "ipython3",
      "version": "3.6.2"
    },
    "colab": {
      "name": "02-Chained Comparison Operators.ipynb",
      "provenance": [],
      "collapsed_sections": []
    }
  },
  "cells": [
    {
      "cell_type": "markdown",
      "metadata": {
        "id": "k2WqJWZgQvLy",
        "colab_type": "text"
      },
      "source": [
        "# Chained Comparison Operators=logical operators\n",
        "\n",
        "An interesting feature of Python is the ability to *chain* multiple comparisons to perform a more complex test. You can use these chained comparisons as shorthand for larger Boolean Expressions.\n",
        "\n",
        "In this lecture we will learn how to chain comparison operators and we will also introduce two other important statements in Python: **and** and **or**.\n",
        "\n",
        "Let's look at a few examples of using chains:"
      ]
    },
    {
      "cell_type": "code",
      "metadata": {
        "id": "G-rzEG9IQvL-",
        "colab_type": "code",
        "colab": {},
        "outputId": "a1611d3f-178b-46f0-fe12-5f875005dd1c"
      },
      "source": [
        "1 < 2 < 3"
      ],
      "execution_count": 0,
      "outputs": [
        {
          "output_type": "execute_result",
          "data": {
            "text/plain": [
              "True"
            ]
          },
          "metadata": {
            "tags": []
          },
          "execution_count": 1
        }
      ]
    },
    {
      "cell_type": "markdown",
      "metadata": {
        "id": "gs-mNzuzQvMX",
        "colab_type": "text"
      },
      "source": [
        "The above statement checks if 1 was less than 2 **and** if 2 was less than 3. We could have written this using an **and** statement in Python:"
      ]
    },
    {
      "cell_type": "code",
      "metadata": {
        "id": "zAySxynnQvMa",
        "colab_type": "code",
        "colab": {},
        "outputId": "432cd8d8-312d-43cb-cc33-6b1917df1ad1"
      },
      "source": [
        "1<2 and 2<3"
      ],
      "execution_count": 0,
      "outputs": [
        {
          "output_type": "execute_result",
          "data": {
            "text/plain": [
              "True"
            ]
          },
          "metadata": {
            "tags": []
          },
          "execution_count": 2
        }
      ]
    },
    {
      "cell_type": "markdown",
      "metadata": {
        "id": "iYSsO0OUQvMn",
        "colab_type": "text"
      },
      "source": [
        "The **and** is used to make sure two checks have to be true in order for the total check to be true. Let's see another example:"
      ]
    },
    {
      "cell_type": "code",
      "metadata": {
        "id": "CK49mKOrQvMs",
        "colab_type": "code",
        "colab": {},
        "outputId": "047b6660-9fa6-491b-ebaf-bd52a318c753"
      },
      "source": [
        "1 < 3 > 2"
      ],
      "execution_count": 0,
      "outputs": [
        {
          "output_type": "execute_result",
          "data": {
            "text/plain": [
              "True"
            ]
          },
          "metadata": {
            "tags": []
          },
          "execution_count": 3
        }
      ]
    },
    {
      "cell_type": "markdown",
      "metadata": {
        "id": "XkYsoMpzQvM5",
        "colab_type": "text"
      },
      "source": [
        "The above checks if 3 is larger than both of the other numbers, so you could use **and** to rewrite it as:"
      ]
    },
    {
      "cell_type": "code",
      "metadata": {
        "id": "wjqAeeylQvM9",
        "colab_type": "code",
        "colab": {},
        "outputId": "68aed4c3-e596-4555-fd34-c910ba31da1e"
      },
      "source": [
        "1<3 and 3>2"
      ],
      "execution_count": 0,
      "outputs": [
        {
          "output_type": "execute_result",
          "data": {
            "text/plain": [
              "True"
            ]
          },
          "metadata": {
            "tags": []
          },
          "execution_count": 4
        }
      ]
    },
    {
      "cell_type": "markdown",
      "metadata": {
        "id": "qYwVcT2XQvNK",
        "colab_type": "text"
      },
      "source": [
        "It's important to note that Python is checking both instances of the comparisons. We can also use **or** to write comparisons in Python. For example:"
      ]
    },
    {
      "cell_type": "code",
      "metadata": {
        "id": "7y3X34JcQvNN",
        "colab_type": "code",
        "colab": {},
        "outputId": "6750b9e1-ed6c-4f0a-b712-f2261358de11"
      },
      "source": [
        "1==2 or 2<3"
      ],
      "execution_count": 0,
      "outputs": [
        {
          "output_type": "execute_result",
          "data": {
            "text/plain": [
              "True"
            ]
          },
          "metadata": {
            "tags": []
          },
          "execution_count": 5
        }
      ]
    },
    {
      "cell_type": "markdown",
      "metadata": {
        "id": "0pBG855jQvNV",
        "colab_type": "text"
      },
      "source": [
        "Note how it was true; this is because with the **or** operator, we only need one *or* the other to be true. Let's see one more example to drive this home:"
      ]
    },
    {
      "cell_type": "code",
      "metadata": {
        "id": "WEDy6yLwQvNY",
        "colab_type": "code",
        "colab": {},
        "outputId": "0560f0ee-8619-4962-9576-66e499ee7cff"
      },
      "source": [
        "1==1 or 100==1"
      ],
      "execution_count": 0,
      "outputs": [
        {
          "output_type": "execute_result",
          "data": {
            "text/plain": [
              "True"
            ]
          },
          "metadata": {
            "tags": []
          },
          "execution_count": 6
        }
      ]
    },
    {
      "cell_type": "markdown",
      "metadata": {
        "id": "M5wWOlt2QvNl",
        "colab_type": "text"
      },
      "source": [
        ""
      ]
    }
  ]
}